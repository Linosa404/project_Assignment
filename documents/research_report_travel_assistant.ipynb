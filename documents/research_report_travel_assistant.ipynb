{
 "cells": [
  {
   "cell_type": "markdown",
   "id": "0e009b81",
   "metadata": {},
   "source": [
    "# Forschungsbericht: Mehrsprachiger Konversationstravel-Assistent\n",
    "\n",
    "Dieser Bericht dokumentiert die Konzeption, Implementierung und iterative Verbesserung eines mehrsprachigen Konversationstravel-Assistenten. Der Assistent ist in der Lage, Reiseanfragen sowohl auf Englisch als auch auf Deutsch zu verstehen und zu beantworten und extrahiert strukturierte Informationen (Slots) für nachgelagerte Dienste wie Wetter-, Flug- und Hotel-APIs."
   ]
  },
  {
   "cell_type": "markdown",
   "id": "dd129d92",
   "metadata": {},
   "source": [
    "## 1. Projektübersicht\n",
    "\n",
    "Ziel des Projekts ist es, einen robusten Chatbot zu entwickeln, der:\n",
    "- Freiform-Benutzerfragen zu Reisen (Wetter, Flüge, Hotels) akzeptiert.\n",
    "- Intention und relevante Slots (z.B. Stadt, Daten, Herkunft, Ziel) extrahiert.\n",
    "- Sowohl englische als auch deutsche Anfragen unterstützt.\n",
    "- Mit realen APIs für Wetter, Flüge und Hotels integriert ist.\n",
    "- Fallback-Mechanismen und Normalisierung für unklare oder unvollständige Benutzereingaben bietet."
   ]
  },
  {
   "cell_type": "markdown",
   "id": "efdc608a",
   "metadata": {},
   "source": [
    "## 2. Datensammlung und Annotation\n",
    "\n",
    "### 2.1. Ursprüngliche Datenquellen\n",
    "- Englische und deutsche Reiseanfragen wurden gesammelt und decken verschiedene Szenarien ab (Einzeldatum, Datumsbereich, Stadt, Herkunft/Ziel).\n",
    "- Bestehende Datensätze wie GermEval und synthetische Daten wurden als Basis verwendet.\n",
    "\n",
    "### 2.2. Erweiterung der deutschen Daten\n",
    "- Zusätzliche deutsche Anfragen wurden manuell erstellt und annotiert, um folgende Bereiche abzudecken:\n",
    "  - Flugbuchung (mit und ohne Datumsbereich)\n",
    "  - Hotelbuchung (mit Erwachsenen/Kinder, Frühstück etc.)\n",
    "  - Wetteranfragen (Einzeldatum, Datumsbereich, Monat)\n",
    "- Beispielannotation:\n",
    "  ```\n",
    "  {\n",
    "    \"text\": \"Ich will einen Flug von Hamburg nach Zürich am 12. September\",\n",
    "    \"slots\": [\n",
    "      {\"slot\": \"origin\", \"value\": \"Hamburg\"},\n",
    "      {\"slot\": \"destination\", \"value\": \"Zürich\"},\n",
    "      {\"slot\": \"date\", \"value\": \"12. September\"}\n",
    "    ]\n",
    "  }\n",
    "  ```\n",
    "\n",
    "### 2.3. Zusammenführen der Datensätze\n",
    "- Alle annotierten Daten wurden mit einem eigenen Skript zu einem umfassenden, mehrsprachigen Slot-NER-Datensatz zusammengeführt."
   ]
  },
  {
   "cell_type": "markdown",
   "id": "97a7da82",
   "metadata": {},
   "source": [
    "## 3. Modelltraining\n",
    "\n",
    "### 3.1. Slot-NER-Modell\n",
    "- Ein Transformer-basiertes Modell (z.B. BERT) wurde für die Slot-Extraktion trainiert.\n",
    "- Das Modell wurde nach jeder Datenerweiterung erneut trainiert und sowohl mit englischen als auch deutschen Anfragen validiert.\n",
    "- Das Trainingsskript unterstützt sowohl Einzeldatum- als auch Datumsbereich-Annotationen.\n",
    "\n",
    "### 3.2. Intent-Klassifikation\n",
    "- Ein separater Intent-Klassifikator wurde trainiert, um zwischen Wetter-, Flug-, Hotel- und anderen Anfragen zu unterscheiden.\n",
    "\n",
    "### 3.3. Evaluation\n",
    "- Die Modelle wurden mit Genauigkeit und F1-Score auf einem separaten Validierungsdatensatz bewertet.\n",
    "- Manuelle und automatisierte Tests wurden mit einer Vielzahl von Anfragen in beiden Sprachen durchgeführt."
   ]
  },
  {
   "cell_type": "markdown",
   "id": "b085c258",
   "metadata": {},
   "source": [
    "## 4. Chatbot-Logik und Slot-Normalisierung\n",
    "\n",
    "### 4.1. Kernpipeline\n",
    "- Die Benutzereingabe wird zunächst auf die Sprache geprüft und bei Bedarf übersetzt.\n",
    "- Intention und Slots werden mit den trainierten Modellen extrahiert.\n",
    "- Die Slot-Normalisierungslogik stellt sicher:\n",
    "  - Wenn nur `date` vorhanden ist, wird dieses sowohl als `start_date` als auch als `end_date` verwendet.\n",
    "  - Wenn nur eines von `start_date` oder `end_date` vorhanden ist, wird es als Einzeldatum behandelt.\n",
    "  - Fallback-Regex wird für Flugabfragen verwendet, um `origin` und `destination` zu extrahieren, falls das Modell sie nicht erkennt.\n",
    "  - Deutsche Monatsnamen werden für die Weiterverarbeitung ins Englische normalisiert.\n",
    "\n",
    "### 4.2. API-Integration\n",
    "- Wetter-, Flug- und Hotelinformationen werden über reale APIs (OpenWeatherMap, Google Flights, Booking.com) abgerufen.\n",
    "- Städtenamen werden für Flugabfragen in IATA-Codes umgewandelt.\n",
    "\n",
    "### 4.3. Debugging und Tests\n",
    "- Umfangreiche Debug-Ausgaben für Slot-Extraktion und Normalisierung.\n",
    "- Eine Testsuite mit über 20 Szenarien (Englisch und Deutsch) validiert die End-to-End-Pipeline."
   ]
  },
  {
   "cell_type": "markdown",
   "id": "28dc8dfc",
   "metadata": {},
   "source": [
    "## 5. Iterative Verbesserung\n",
    "\n",
    "### 5.1. Fehleranalyse\n",
    "- Testergebnisse wurden analysiert, um Fehlerfälle zu identifizieren (z.B. fehlende Slots, mehrdeutige Daten).\n",
    "- Die Trainingsdaten wurden daraufhin erweitert und die Normalisierungslogik verbessert.\n",
    "\n",
    "### 5.2. Robustheit\n",
    "- Der Chatbot ist dank Normalisierung und Fallback-Logik robust gegenüber unvollständigen oder mehrdeutigen Eingaben.\n",
    "- Mehrsprachigkeit wird durch Übersetzung und direkte Annotation erreicht."
   ]
  },
  {
   "cell_type": "markdown",
   "id": "16a56389",
   "metadata": {},
   "source": [
    "## 6. Letzter Schritt: Der Bot in Aktion\n",
    "\n",
    "Der finale Chatbot ist in der Lage:\n",
    "- Reiseanfragen sowohl auf Englisch als auch auf Deutsch zu verstehen und zu beantworten.\n",
    "- Strukturierte Informationen für nachgelagerte APIs zu extrahieren.\n",
    "- Eine Vielzahl von Datumsformaten und Slot-Mehrdeutigkeiten zu verarbeiten.\n",
    "- Echtzeit-Reiseberatung zu bieten, einschließlich Wetter-, Flug- und Hotelinformationen.\n",
    "- **Neu:** Automatische Integration von aktuellen Empfehlungen zu Restaurants und Sehenswürdigkeiten aus TripAdvisor (über die Travel Advisor RapidAPI). Für jede Benutzeranfrage werden die besten Restaurants und Attraktionen am Zielort direkt im Chatbot-Antworttext angezeigt.\n",
    "\n",
    "**Beispielinteraktion:**\n",
    "\n",
    "- **Benutzer:** \"Finde Flüge von Berlin nach Rom vom 1. Juli bis 10. Juli\"\n",
    "- **Bot:** Gibt Flugoptionen, Wetter für beide Städte, Hotelvorschläge und aktuelle TripAdvisor-Empfehlungen (z.B. Top-Restaurants und Sehenswürdigkeiten in Rom) zurück.\n",
    "\n",
    "**Testen:**  \n",
    "Eine umfassende Testsuite stellt sicher, dass der Bot sowohl bei englischen als auch bei deutschen Anfragen zuverlässig funktioniert. Debug-Ausgaben unterstützen die weitere Verbesserung."
   ]
  },
  {
   "cell_type": "markdown",
   "id": "08ed109f",
   "metadata": {},
   "source": [
    "## 7. Fazit\n",
    "\n",
    "Dieses Projekt zeigt einen praxisnahen Ansatz zum Aufbau eines mehrsprachigen, robusten Konversationstravel-Assistenten. Erfolgsfaktoren sind:\n",
    "- Iterative Datenerweiterung und Annotation.\n",
    "- Sorgfältige Slot-Normalisierung und Fallback-Logik.\n",
    "- Integration mit realen APIs.\n",
    "- Umfassende Tests und Debugging.\n",
    "\n",
    "Zukünftige Arbeiten könnten beinhalten:\n",
    "- Erweiterung auf weitere Sprachen.\n",
    "- Verbesserung der NER-bewussten Übersetzung.\n",
    "- Erweiterte Kontextbehandlung und Dialogmanagement."
   ]
  }
 ],
 "metadata": {
  "language_info": {
   "name": "python"
  }
 },
 "nbformat": 4,
 "nbformat_minor": 5
}
